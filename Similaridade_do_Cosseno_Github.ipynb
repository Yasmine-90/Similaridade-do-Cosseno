{
  "nbformat": 4,
  "nbformat_minor": 0,
  "metadata": {
    "colab": {
      "provenance": [],
      "authorship_tag": "ABX9TyOWJrn85nc4eS1QQz9H2s5o"
    },
    "kernelspec": {
      "name": "python3",
      "display_name": "Python 3"
    },
    "language_info": {
      "name": "python"
    }
  },
  "cells": [
    {
      "cell_type": "code",
      "execution_count": 1,
      "metadata": {
        "id": "GqnbwTdwrMl3"
      },
      "outputs": [],
      "source": [
        "import pandas as pd\n",
        "\n",
        "# Use read_excel instead of read_csv for .xlsx files\n",
        "data = pd.read_excel('/content/IT Books Names and Descriptions.xlsx')\n",
        "data.columns = data.columns.str.strip().str.lower()  # Clean column names"
      ]
    },
    {
      "cell_type": "code",
      "source": [
        "from sklearn.feature_extraction.text import TfidfVectorizer\n",
        "from sklearn.metrics.pairwise import cosine_similarity\n",
        "import nltk\n",
        "from nltk.corpus import stopwords\n",
        "nltk.download('stopwords')"
      ],
      "metadata": {
        "colab": {
          "base_uri": "https://localhost:8080/"
        },
        "id": "l1M-bdmNrUfB",
        "outputId": "843cefcd-8828-4570-dd45-287473317347"
      },
      "execution_count": 2,
      "outputs": [
        {
          "output_type": "stream",
          "name": "stderr",
          "text": [
            "[nltk_data] Downloading package stopwords to /root/nltk_data...\n",
            "[nltk_data]   Unzipping corpora/stopwords.zip.\n"
          ]
        },
        {
          "output_type": "execute_result",
          "data": {
            "text/plain": [
              "True"
            ]
          },
          "metadata": {},
          "execution_count": 2
        }
      ]
    },
    {
      "cell_type": "code",
      "source": [
        "# Lista de stopwords em português\n",
        "stop_words = stopwords.words('english')"
      ],
      "metadata": {
        "id": "fzEX2-oZrZ93"
      },
      "execution_count": 3,
      "outputs": []
    },
    {
      "cell_type": "code",
      "source": [
        "vectorizer = TfidfVectorizer(stop_words='english')\n",
        "tfidf_matrix = vectorizer.fit_transform(data['description'])\n",
        "\n",
        "# Calcular a similaridade do cosseno entre os filmes\n",
        "cosine_sim = cosine_similarity(tfidf_matrix, tfidf_matrix)"
      ],
      "metadata": {
        "id": "MJ2HFzpyrgPQ"
      },
      "execution_count": 4,
      "outputs": []
    },
    {
      "cell_type": "code",
      "source": [
        "# Remover sinopses vazias ou muito curtas\n",
        "data = data.dropna(subset=['description'])\n",
        "data = data[data['description'].str.len() > 30].reset_index(drop=True)\n",
        "\n",
        "# Escolher filme de referência (por título exato ou índice)\n",
        "filme_referencia = data[data['book_name'].str.contains(\"Game Development with GameMaker Studio 2\", case=False)].iloc[0]\n",
        "\n",
        "# Vetorização TF-IDF\n",
        "vectorizer = TfidfVectorizer(stop_words=stop_words, min_df=2, ngram_range=(1, 2))\n",
        "tfidf_matrix = vectorizer.fit_transform(data['description'])\n",
        "\n",
        "# Índice do filme de referência\n",
        "ref_index = data[data['book_name'] == filme_referencia['book_name']].index[0]\n",
        "\n",
        "# Calcular similaridade\n",
        "cosine_sim = cosine_similarity(tfidf_matrix[ref_index], tfidf_matrix).flatten()\n",
        "\n",
        "# Gerar lista de similaridade (excluindo ele mesmo)\n",
        "similarities = [\n",
        "    (data.iloc[i]['book_name'], cosine_sim[i])\n",
        "    for i in range(len(data)) if i != ref_index and cosine_sim[i] > 0\n",
        "]\n",
        "\n",
        "# Ordenar por similaridade\n",
        "similarities.sort(key=lambda x: x[1], reverse=True)\n",
        "\n",
        "# Mostrar top 10 resultados\n",
        "print(f\"Filmes mais similares a '{filme_referencia['book_name']}':\")\n",
        "for title, sim in similarities[:10]:\n",
        "    print(f\"{title}: Similaridade = {sim:.4f}\")"
      ],
      "metadata": {
        "colab": {
          "base_uri": "https://localhost:8080/"
        },
        "id": "AzPT57a9rki5",
        "outputId": "b05b4638-2443-446a-f390-a86e3387de05"
      },
      "execution_count": 5,
      "outputs": [
        {
          "output_type": "stream",
          "name": "stdout",
          "text": [
            "Filmes mais similares a 'Game Development with GameMaker Studio 2':\n",
            "GameMaker Essentials: Similaridade = 0.3714\n",
            "Beginning Game Development with Amazon Lumberyard: Similaridade = 0.3056\n",
            "HTML5 Game Development from the Ground Up with Construct 2: Similaridade = 0.2945\n",
            "C++ Game Development Cookbook: Similaridade = 0.2922\n",
            "Learning Windows 8 Game Development: Similaridade = 0.2886\n",
            "The Game Jam Survival Guide: Similaridade = 0.2863\n",
            "Make a 2D Arcade Game in a Weekend: With Unity: Similaridade = 0.2834\n",
            "iOS Game Development By Example: Similaridade = 0.2811\n",
            "Mastering Cocos2d Game Development: Similaridade = 0.2801\n",
            "GameMaker: Studio For Dummies: Similaridade = 0.2759\n"
          ]
        }
      ]
    }
  ]
}